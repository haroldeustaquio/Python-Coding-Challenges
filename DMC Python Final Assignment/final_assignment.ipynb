{
 "cells": [
  {
   "cell_type": "markdown",
   "metadata": {},
   "source": [
    "# Trabajo final\n",
    "\n",
    "1. Limpiar la tabla extraida de la web\n",
    "    - Limpiar las columnas y estandarizarlas a criterio suyo\n",
    "    - Eliminar columnas no necesarias o nulas\n",
    "    - Verificar el tipo de las columnas y asignar el correcto tipo\n",
    "    - Guardarlo en un archivo de tipo parquet llamado: \"indicadores_departamentales.parquet\"\n",
    "    - [OPCIONAL] Crear una base de datos sqlite con sqlalchemy y guardar lo antes limpiado como una tabla\n",
    "2. Calcular cuantas personas hay en un km2 de la superficie de los departamentos : Población censal / Superficie\n",
    "3. Que tan pequeño es la superficie del Callao, Lima Metropolitana,Lima Provincias con respecto al departamento de Amazonas: suma de superficies de los tres departamentos / superficie de amazonas\n",
    "4. En cuanto a crecido la población según la estimación del 2022 con respecto a la población en el 2017"
   ]
  },
  {
   "cell_type": "markdown",
   "metadata": {},
   "source": [
    "#### 1. Limpiar los datos"
   ]
  },
  {
   "cell_type": "code",
   "execution_count": null,
   "metadata": {},
   "outputs": [],
   "source": [
    "import pandas as pd\n",
    "import unicodedata\n",
    "import re"
   ]
  },
  {
   "cell_type": "code",
   "execution_count": null,
   "metadata": {},
   "outputs": [],
   "source": [
    "def clean_string(txt:str) -> str :\n",
    "    \"\"\"\n",
    "    Normalizamos los textos\n",
    "    \"\"\"\n",
    "    txt = str(txt).strip()\n",
    "    txt = unicodedata.normalize('NFKD', txt).encode('ASCII', 'ignore').decode()\n",
    "\n",
    "    txt = re.sub('[^0-9a-zA-Z&_]+', ' ', txt)\n",
    "    txt = re.sub(' +', ' ',txt)\n",
    "    return txt"
   ]
  },
  {
   "cell_type": "code",
   "execution_count": null,
   "metadata": {},
   "outputs": [],
   "source": [
    "# Almacenamos los datos extraídos de la web\n",
    "df = pd.read_html(\"https://es.wikipedia.org/wiki/Departamentos_del_Per%C3%BA\")[1]\n",
    "\n",
    "# Deseo quedarme solo con la segunda columna de nombres del df.columns (es un MultiIndex)\n",
    "df.columns = df.columns.get_level_values(1)\n",
    "\n",
    "# Observamos los datos para ver qué columnas eliminar\n",
    "df.head()\n",
    "\n",
    "# Eliminamos columnas que no necesitaremos como Bandera,Capital, Escudo, Creacion Ubicación,Estimación 2022[46]​.1\n",
    "df.drop(columns=['Ubigeo','Bandera', 'Escudo','Capital', 'Creación','Ubicación','Estimación 2022[46]​.1'],inplace=True)\n",
    "\n",
    "# Eliminamos la fila 26 ya que no es un departamento\n",
    "df.drop(26,inplace=True)\n",
    "\n",
    "# Renombramos las columnas\n",
    "new_columns = {\n",
    "    'Departamento': 'Departamento',\n",
    "    'Censo 2017[49]​': 'Censo_2017',\n",
    "    'Estimación 2022[46]​': 'Estimacion_2022',\n",
    "    'Superficie[48]​ (km²)': 'Superficie(km²)'\n",
    "}\n",
    "\n",
    "df.rename(columns = new_columns,inplace=True)\n",
    "\n",
    "\n",
    "# Cambiamos tipo de dato de las columnas\n",
    "\n",
    "df['Departamento'] = df['Departamento'].astype('string')\n",
    "\n",
    "# Cambiamos el valor Callao[nota 1] por solo Callao\n",
    "df.loc[6,'Departamento'] = \"Callao\"\n",
    "\n",
    "# Usamos la función clean_string para estandarozar los nombres de los departamentos\n",
    "df['Departamento'] = df['Departamento'].apply(lambda x: clean_string(x).title())\n",
    "\n",
    "df['Censo_2017'] = df['Censo_2017'].astype('string').str.replace(\"\\xa0\",\"\").astype(int)\n",
    "df['Estimacion_2022'] = df['Estimacion_2022'].astype('string').str.replace(\"\\xa0\",\"\").astype(int)\n",
    "df['Superficie(km²)'] = df['Superficie(km²)'].astype('string').str.replace(\"\\xa0\",\"\").astype(int)\n"
   ]
  },
  {
   "cell_type": "code",
   "execution_count": null,
   "metadata": {},
   "outputs": [],
   "source": [
    "df.to_parquet(\"indicadores_departamentales.parquet\")"
   ]
  },
  {
   "cell_type": "markdown",
   "metadata": {},
   "source": [
    "#### 2. Densidad Poblacional"
   ]
  },
  {
   "cell_type": "code",
   "execution_count": null,
   "metadata": {},
   "outputs": [],
   "source": [
    "# Seleccionamos solo las columnas que nos interesan \n",
    "temp_df = df[['Departamento','Censo_2017','Superficie(km²)']]\n",
    "\n",
    "# Dividimos población sobre superficie y redondeamos a 2\n",
    "temp_df['Densidad_poblacional'] = round(temp_df['Censo_2017']/temp_df['Superficie(km²)'],2)\n",
    "\n",
    "# Seleccionamos la densidad poblacional de cada departamento\n",
    "temp_df[['Departamento','Densidad_poblacional']]"
   ]
  },
  {
   "cell_type": "markdown",
   "metadata": {},
   "source": [
    "#### 3. Comparación de Superficies"
   ]
  },
  {
   "cell_type": "code",
   "execution_count": null,
   "metadata": {},
   "outputs": [],
   "source": [
    "# Seleccionamos los índices de los departmentos\n",
    "index_1 = df[df['Departamento'].isin(['Callao','Lima Metropolitana','Lima Provincias'])].index\n",
    "index_2 = df[df['Departamento'].isin(['Amazonas'])].index\n",
    "\n",
    "# Dividimos la suma de las superficies de 3 departamentos ('Callao','Lima Metropolitana','Lima Provincias') y dividimos sobre la superficie de Amazonas\n",
    "diff = -df.loc[index_1,'Superficie(km²)'].sum()  + df.loc[index_2,'Superficie(km²)'].sum()\n",
    "multi = round(df.loc[index_1,'Superficie(km²)'].sum() / df.loc[index_2,'Superficie(km²)'].sum(),2)\n",
    "\n",
    "print(f\"La suma de superficies de Callao, Lima Metropolitana, Lima Provincias es {multi} veces la superficie de Amazonas ({diff} km menos)\")"
   ]
  },
  {
   "cell_type": "markdown",
   "metadata": {},
   "source": [
    "#### 4. Comparación de poblaciones"
   ]
  },
  {
   "cell_type": "code",
   "execution_count": null,
   "metadata": {},
   "outputs": [],
   "source": [
    "# Medimos el aumento de la población y hallamos el porcentaje\n",
    "diff = df['Estimacion_2022'].sum() - df['Censo_2017'].sum()\n",
    "aumento = round((df['Estimacion_2022'].sum() - df['Censo_2017'].sum())*100/ df['Censo_2017'].sum(),2)\n",
    "\n",
    "print(f\"La estimación poblacional para el 2022 aumenta en un {aumento} % ({diff}) comparado con el 2017 \")"
   ]
  }
 ],
 "metadata": {
  "kernelspec": {
   "display_name": "DMC",
   "language": "python",
   "name": "python3"
  },
  "language_info": {
   "codemirror_mode": {
    "name": "ipython",
    "version": 3
   },
   "file_extension": ".py",
   "mimetype": "text/x-python",
   "name": "python",
   "nbconvert_exporter": "python",
   "pygments_lexer": "ipython3",
   "version": "3.11.8"
  }
 },
 "nbformat": 4,
 "nbformat_minor": 2
}
