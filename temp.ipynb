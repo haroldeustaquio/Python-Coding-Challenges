{
 "cells": [
  {
   "cell_type": "code",
<<<<<<< HEAD
   "execution_count": 49,
   "metadata": {},
   "outputs": [
    {
     "name": "stdout",
     "output_type": "stream",
     "text": [
      "9,2025,9,25\n"
     ]
    }
   ],
   "source": [
    "# Question:\n",
    "# Use a list comprehension to square each odd number in a list. The list is input by a sequence of comma-separated numbers.\n",
    "# Suppose the following input is supplied to the program:\n",
    "# 1,2,3,4,5,6,7,8,9\n",
    "# Then, the output should be:\n",
    "# 1,3,5,7,9\n",
=======
   "execution_count": 83,
   "metadata": {},
   "outputs": [
    {
     "data": {
      "text/plain": [
       "'a,b,hola,que'"
      ]
     },
     "execution_count": 83,
     "metadata": {},
     "output_type": "execute_result"
    }
   ],
   "source": [
    "# Write a program that accepts a sequence of whitespace separated words as input and prints the words after removing all duplicate words and sorting them alphanumerically.\n",
    "# Suppose the following input is supplied to the program:\n",
    "# hello world and practice makes perfect and hello world again\n",
    "# Then, the output should be:\n",
    "# again and hello makes perfect practice world\n",
>>>>>>> 860ad1bf6a0746d51c1cbae1094d60f93815ba4c
    "\n",
    "list_word = input('Write some words: ').split(' ')\n",
    "\n",
<<<<<<< HEAD
    "list_word = (input('Write some words: ')).split(',')\n",
    "new_list = []\n",
    "for word in list_word:\n",
    "    if(int(word)%2 != 0):\n",
    "        new_list.append(str(int(word)**2))\n",
    "        \n",
    "print(','.join(new_list))"
=======
    "from collections import defaultdict\n",
    "\n",
    "temp_dict = defaultdict(int)\n",
    "for word in list_word:\n",
    "    temp_dict[word] += 1\n",
    "\n",
    "temp_list = list(temp_dict.keys())\n",
    "\n",
    "temp_list.sort()\n",
    "\n",
    "','.join(temp_list)"
>>>>>>> 860ad1bf6a0746d51c1cbae1094d60f93815ba4c
   ]
  }
 ],
 "metadata": {
  "kernelspec": {
   "display_name": "Python 3",
   "language": "python",
   "name": "python3"
  },
  "language_info": {
   "codemirror_mode": {
    "name": "ipython",
    "version": 3
   },
   "file_extension": ".py",
   "mimetype": "text/x-python",
   "name": "python",
   "nbconvert_exporter": "python",
   "pygments_lexer": "ipython3",
   "version": "3.11.9"
  }
 },
 "nbformat": 4,
 "nbformat_minor": 2
}
