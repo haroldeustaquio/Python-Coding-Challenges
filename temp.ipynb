{
 "cells": [
  {
   "cell_type": "code",
   "execution_count": 47,
   "metadata": {},
   "outputs": [
    {
     "data": {
      "text/plain": [
       "500.0"
      ]
     },
     "execution_count": 47,
     "metadata": {},
     "output_type": "execute_result"
    }
   ],
   "source": [
    "# Question:\n",
    "# Write a program that computes the net amount of a bank account based a transaction log from console input. The transaction log format is shown as following:\n",
    "# D 100\n",
    "# W 200\n",
    "\n",
    "# D means deposit while W means withdrawal.\n",
    "# Suppose the following input is supplied to the program:\n",
    "# D 300\n",
    "# D 300\n",
    "# W 200\n",
    "# D 100\n",
    "# Then, the output should be:\n",
    "# 500\n",
    "\n",
    "from collections import defaultdict\n",
    "list_trans = defaultdict(float)\n",
    "\n",
    "while True:\n",
    "    transaction = input('Write some words: ').split(' ')\n",
    "    \n",
    "    if transaction == ['']:\n",
    "        break\n",
    "    else: \n",
    "        list_trans[transaction[0]] += int(transaction[1])\n",
    "        \n",
    "list_trans['D'] - list_trans['W']"
   ]
  }
 ],
 "metadata": {
  "kernelspec": {
   "display_name": "Python 3",
   "language": "python",
   "name": "python3"
  },
  "language_info": {
   "codemirror_mode": {
    "name": "ipython",
    "version": 3
   },
   "file_extension": ".py",
   "mimetype": "text/x-python",
   "name": "python",
   "nbconvert_exporter": "python",
   "pygments_lexer": "ipython3",
   "version": "3.11.9"
  }
 },
 "nbformat": 4,
 "nbformat_minor": 2
}
